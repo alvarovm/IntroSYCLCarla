{
 "cells": [
  {
   "cell_type": "markdown",
   "metadata": {},
   "source": [
    "# N Body Simulation Code\n",
    "\n",
    "\n",
    "### NBody with SYCL VIDEO - Presenter Dr. María Patoja\n",
    "[![VIDEO](https://img.youtube.com/vi/rYe7guaZdTw/0.jpg)](https://www.youtube.com/watch?v=rYe7guaZdTw)\n",
    "\n",
    "### SLIDES\n",
    "[Explenation slides](https://docs.google.com/presentation/d/172OdlRp6vT-KKRXnS14x31WlCOFtjDzSFIRcJ3hkZ9A/edit?usp=sharing)\n",
    "\n",
    "### NBody NVIDIA Simulations and visualization\n",
    "[![VIDEO](https://img.youtube.com/vi/uhTuJZiAG64/0.jpg)](https://www.youtube.com/watch?v=uhTuJZiAG64)\n",
    "\n"
   ]
  },
  {
   "cell_type": "code",
   "execution_count": 1,
   "metadata": {
    "id": "_Tfcy1k0U5Ot",
    "outputId": "4581ac60-f660-4e3b-e940-c98fc2cd3acb"
   },
   "outputs": [
    {
     "name": "stdout",
     "output_type": "stream",
     "text": [
      "Writing compute.cpp\n"
     ]
    }
   ],
   "source": [
    "%%writefile compute.cpp\n",
    "#include <math.h>\n",
    "#include <stdlib.h>\n",
    "#include <omp.h>\n",
    "#include <sys/time.h>\n",
    "#include <sycl/sycl.hpp>\n",
    "#include <oneapi/dpl/random>\n",
    "#include <iostream>\n",
    "#include <iomanip>\n",
    "\n",
    "using namespace sycl;\n",
    "\n",
    "// SOFTENING: This is used to prevent division by zero or extremely small distances during the force calculation.\n",
    "#define SOFTENING 1e-9f\n",
    "\n",
    "// Seed: This is used for random number generation.\n",
    "#define seed 777\n",
    "\n",
    "/* Body Structure: This defines a Body structure to represent each particle, including its position (x, y, z)\n",
    "    and velocity (vx, vy, vz) in three dimensions.*/\n",
    "typedef struct { float x, y, z, vx, vy, vz; } Body;\n",
    "\n",
    "// Code to randomize Bodies on CPU\n",
    "// The randomizeBodies function initializes the Body structures with random positions and velocities between -1.0 and 1.0. \n",
    "void randomizeBodies(Body *data, int n) {\n",
    "    for (int i = 0; i < n; i++) {\n",
    "        data[i].x = 2.0f * (rand() / (float)RAND_MAX) - 1.0f;\n",
    "        data[i].y = 2.0f * (rand() / (float)RAND_MAX) - 1.0f;\n",
    "        data[i].z = 2.0f * (rand() / (float)RAND_MAX) - 1.0f;\n",
    "        data[i].vx = 2.0f * (rand() / (float)RAND_MAX) - 1.0f;\n",
    "        data[i].vy = 2.0f * (rand() / (float)RAND_MAX) - 1.0f;\n",
    "        data[i].vz = 2.0f * (rand() / (float)RAND_MAX) - 1.0f;      \n",
    "    }\n",
    "}\n",
    "\n",
    "// Code that randomly initializes nbodies on GPU\n",
    "/*\n",
    "void randomizeBodies(Body *data, int n, queue &q) {\n",
    "    q.submit([&](handler& h) { \n",
    "        h.parallel_for(range<1>(n), [=](item<1> idx) {\n",
    "            auto offset = idx.get_linear_id();\n",
    "            oneapi::dpl::minstd_rand engine(seed, offset);\n",
    "            oneapi::dpl::uniform_real_distribution<float> distr(-1.0f, 1.0f);\n",
    "            data[offset].x = distr(engine);\n",
    "            data[offset].y = distr(engine);\n",
    "            data[offset].z = distr(engine);\n",
    "            data[offset].vx = distr(engine);\n",
    "            data[offset].vy = distr(engine);\n",
    "            data[offset].vz = distr(engine);\n",
    "        });\n",
    "    }).wait();\n",
    "}\n",
    "*/\n",
    "\n",
    "void bodyForce(Body *data, float dt, int nBodies, queue &q){\n",
    "    q.submit([&](handler& h) { //compute forces\n",
    "            h.parallel_for(range<1>(nBodies), [=](id<1> i) {\n",
    "                float Fx = 0.0f; float Fy = 0.0f; float Fz = 0.0f;\n",
    "    \n",
    "                for (int j = 0; j < nBodies; j++) {\n",
    "                  float dx = data[j].x - data[i].x;\n",
    "                  float dy = data[j].y - data[i].y;\n",
    "                  float dz = data[j].z - data[i].z;\n",
    "                  float distSqr = dx*dx + dy*dy + dz*dz + SOFTENING;\n",
    "                  float invDist = 1.0f / sqrtf(distSqr);\n",
    "                  float invDist3 = invDist * invDist * invDist;\n",
    "    \n",
    "                  Fx += dx * invDist3; Fy += dy * invDist3; Fz += dz * invDist3;\n",
    "                }\n",
    "    \n",
    "                data[i].vx += dt*Fx; data[i].vy += dt*Fy; data[i].vz += dt*Fz;\n",
    "            });\n",
    "        });\n",
    "}\n",
    "\n",
    "int main(){\n",
    "    // The main function initializes a SYCL queue 'q' and allocates an array of Body structures using malloc_shared.\n",
    "    \n",
    "    //# define queue which has default device associated for offload\n",
    "\n",
    "    // If you want to run on GPU use:\n",
    "    queue q;\n",
    "\n",
    "    //if you want to run on CPU use:\n",
    "    //queue q{cpu_selector_v};\n",
    "    std::cout << \"Device: \" << q.get_device().get_info<info::device::name>() << \"\\n\";\n",
    "\n",
    "    // Amount of Bodies in the simulation\n",
    "    int nBodies = 48000;\n",
    "\n",
    "    // The main simulation loop runs for nIters iterations.\n",
    "    const int nIters = 20;\n",
    "\n",
    "    const float dt = 0.01f;\n",
    "    Body *data = malloc_shared<Body>(nBodies, q);\n",
    "\n",
    "    randomizeBodies(data, nBodies); //this can be also in a paralle_for and init on the GPU\n",
    "\n",
    "    double start;\n",
    "    double end;\n",
    "    double totalTime = 0.0;\n",
    "    double avgTime;\n",
    "\n",
    "    for (int iter = 1; iter <= nIters; iter++) {\n",
    "        //start timer here\n",
    "        start = omp_get_wtime();\n",
    "\n",
    "        // In each iteration, the bodyForce function calculates the gravitational force on each body due to every other body.\n",
    "        // It updates the velocities of the bodies accordingly. It executes this calculation for each body in parallel, using the SYCL queue 'q'.\n",
    "        bodyForce(data, dt, nBodies, q);\n",
    "\n",
    "        // Positions are then updated in a separate parallel step.\n",
    "        q.submit([&](handler& h) { //integrate positions\n",
    "            h.parallel_for(range<1>(nBodies), [=](id<1> i) {\n",
    "              data[i].x += data[i].vx*dt;\n",
    "              data[i].y += data[i].vy*dt;\n",
    "              data[i].z += data[i].vz*dt;\n",
    "            });\n",
    "        }).wait();\n",
    "        // Wait() is to synchornize data before continuing\n",
    "\n",
    "        //end timer here\n",
    "        end = omp_get_wtime();\n",
    "        // The time taken for each iteration is measured using omp_get_wtime().\n",
    "        double tElapsed = end - start;\n",
    "\n",
    "        if (iter > 1) { // The first iteration is considered a warm-up and is not included in the average timing.\n",
    "          totalTime += tElapsed;\n",
    "        }\n",
    "        printf(\"Iteration %d: %.3f seconds\\n\", iter, tElapsed);\n",
    "        avgTime = totalTime / (double)(nIters-1);\n",
    "    }\n",
    "\n",
    "    std::cout << \"Nbodies: \" << nBodies << \"  Iterations: \" << nIters << std::endl;\n",
    "    std::cout << \"Total Time Elapsed: \" << std::fixed << std::setprecision(3) << totalTime << \"\\n\";\n",
    "    std::cout << \"Average Time per Iteration: \" << std::fixed << std::setprecision(4) << avgTime << std::endl;\n",
    "\n",
    "    free(data, q);\n",
    "    return 0;\n",
    "}"
   ]
  },
  {
   "cell_type": "code",
   "execution_count": 4,
   "metadata": {
    "tags": []
   },
   "outputs": [
    {
     "name": "stdout",
     "output_type": "stream",
     "text": [
      "Overwriting ./run-sycl.sh\n"
     ]
    }
   ],
   "source": [
    "%%writefile ./run-sycl.sh\n",
    "#!/bin/bash \n",
    "source /opt/intel/oneapi/setvars.sh > /dev/null 2>&1\n",
    "icpx -fsycl -fopemmp compute.cpp \n",
    "\n",
    "#export ONEAPI_DEVICE_SELECTOR=opencl:cpu \n",
    "#export ONEAPI_DEVICE_SELECTOR=opencl:gpu\n",
    "#export ONEAPI_DEVICE_SELECTOR=level_zero:0\n",
    "\n",
    "\n",
    "if [ $? -eq 0 ]; then ./a.out; fi"
   ]
  },
  {
   "cell_type": "code",
   "execution_count": 5,
   "metadata": {
    "tags": []
   },
   "outputs": [
    {
     "name": "stdout",
     "output_type": "stream",
     "text": [
      "icpx: \u001b[0;1;31merror: \u001b[0m\u001b[1munknown argument '-fopemmp'; did you mean '-fopenmp'?\u001b[0m\n"
     ]
    }
   ],
   "source": [
    "!chmod u+x ./run-sycl.sh &&./run-sycl.sh"
   ]
  },
  {
   "cell_type": "code",
   "execution_count": null,
   "metadata": {},
   "outputs": [],
   "source": []
  }
 ],
 "metadata": {
  "colab": {
   "provenance": []
  },
  "kernelspec": {
   "display_name": "Python 3 (ipykernel)",
   "language": "python",
   "name": "python3"
  },
  "language_info": {
   "codemirror_mode": {
    "name": "ipython",
    "version": 3
   },
   "file_extension": ".py",
   "mimetype": "text/x-python",
   "name": "python",
   "nbconvert_exporter": "python",
   "pygments_lexer": "ipython3",
   "version": "3.10.9"
  },
  "toc": {
   "base_numbering": 1,
   "nav_menu": {},
   "number_sections": true,
   "sideBar": true,
   "skip_h1_title": false,
   "title_cell": "Table of Contents",
   "title_sidebar": "Contents",
   "toc_cell": false,
   "toc_position": {
    "height": "525.6px",
    "left": "28px",
    "top": "137.8px",
    "width": "301.109px"
   },
   "toc_section_display": true,
   "toc_window_display": true
  }
 },
 "nbformat": 4,
 "nbformat_minor": 4
}
